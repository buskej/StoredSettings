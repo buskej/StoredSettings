{
 "cells": [
  {
   "cell_type": "code",
   "execution_count": null,
   "metadata": {},
   "outputs": [],
   "source": [
    "#swap shift layer and first on nuber row\n",
    "#stored in home as .Xmodmap\n",
    "#to test the efect use command xmodmap ~/.Xmodmap\n",
    "#if you find that it restets after a while use command echo xmodmap ~/.Xmodmap >> ~/.bashrc\n",
    "#that command makes the file so it gets executed whenever a new terminal or shell is opened\n",
    "\n",
    "keycode 10 = exclam 1\n",
    "keycode 11 = at 2\n",
    "keycode 12 = numbersign 3\n",
    "keycode 13 = dollar 4\n",
    "keycode 14 = percent 5\n",
    "keycode 15 = asciicircum 6\n",
    "keycode 16 = ampersand 7\n",
    "keycode 17 = asterisk 8\n",
    "keycode 18 = parenleft 9\n",
    "keycode 19 = parenright 0"
   ]
  },
  {
   "cell_type": "code",
   "execution_count": null,
   "metadata": {},
   "outputs": [],
   "source": [
    "#xmodmap file codes to simulate a numbpad\n",
    "keycode 58 = m M m 1\n",
    "keycode 59 = comma less 2\n",
    "keycode 60 = period greater 3\n",
    "keycode 44 = j J 4\n",
    "keycode 45 = k K 5\n",
    "keycode 46 = l L 6\n",
    "keycode 30 = u U 7\n",
    "keycode 31 = i I 8\n",
    "keycode 32 = o O 9\n",
    "keycode 65 = space space 0"
   ]
  },
  {
   "cell_type": "code",
   "execution_count": null,
   "metadata": {},
   "outputs": [],
   "source": [
    "#svengelskt tangentbord different keyboard layers\n",
    "keycode 47 = semicolon colon odiaeresis Odiaeresis \n",
    "keycode 48 = apostrophe quotedbl adiaeresis Adiaeresis\n",
    "keycode 34 = bracketleft braceleft aring Aring"
   ]
  },
  {
   "cell_type": "code",
   "execution_count": null,
   "metadata": {},
   "outputs": [],
   "source": [
    "#move down = to \\ and make + first layer\n",
    "keycode 21 = plus equal\n",
    "keycode 51 = equal backslash"
   ]
  },
  {
   "cell_type": "code",
   "execution_count": null,
   "metadata": {},
   "outputs": [],
   "source": [
    "#mouse will be and use 'xev |grep button' i terminal to see what is what button\n",
    "pointer = 1 2 3 4 5 6 7 8 9\n",
    "pointer = 1 2 3 4 5 eth idiaeresis Control_L icircumflex"
   ]
  }
 ],
 "metadata": {
  "language_info": {
   "name": "python"
  },
  "orig_nbformat": 4
 },
 "nbformat": 4,
 "nbformat_minor": 2
}
